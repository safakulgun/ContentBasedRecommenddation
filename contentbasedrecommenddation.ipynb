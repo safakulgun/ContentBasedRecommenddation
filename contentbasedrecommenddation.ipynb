{
  "nbformat": 4,
  "nbformat_minor": 0,
  "metadata": {
    "colab": {
      "provenance": []
    },
    "kernelspec": {
      "name": "python3",
      "display_name": "Python 3"
    },
    "language_info": {
      "name": "python"
    },
    "gpuClass": "standard"
  },
  "cells": [
    {
      "cell_type": "code",
      "execution_count": null,
      "metadata": {
        "colab": {
          "base_uri": "https://localhost:8080/"
        },
        "id": "IBh0qG0l4dse",
        "outputId": "5c5c503c-8a17-4e65-c5ca-51fee9790780"
      },
      "outputs": [
        {
          "output_type": "stream",
          "name": "stdout",
          "text": [
            "Looking in indexes: https://pypi.org/simple, https://us-python.pkg.dev/colab-wheels/public/simple/\n",
            "Requirement already satisfied: pandas in /usr/local/lib/python3.8/dist-packages (1.3.5)\n",
            "Requirement already satisfied: pytz>=2017.3 in /usr/local/lib/python3.8/dist-packages (from pandas) (2022.7)\n",
            "Requirement already satisfied: python-dateutil>=2.7.3 in /usr/local/lib/python3.8/dist-packages (from pandas) (2.8.2)\n",
            "Requirement already satisfied: numpy>=1.17.3 in /usr/local/lib/python3.8/dist-packages (from pandas) (1.21.6)\n",
            "Requirement already satisfied: six>=1.5 in /usr/local/lib/python3.8/dist-packages (from python-dateutil>=2.7.3->pandas) (1.15.0)\n"
          ]
        }
      ],
      "source": [
        "!pip install pandas"
      ]
    },
    {
      "cell_type": "code",
      "source": [
        "import pandas as pd\n",
        "pd.set_option('display.max_columns', None)\n",
        "pd.set_option('display.width', 500)\n",
        "pd.set_option('display.expand_frame_repr', False)\n",
        "from sklearn.feature_extraction.text import TfidfVectorizer\n",
        "from sklearn.metrics.pairwise import cosine_similarity"
      ],
      "metadata": {
        "id": "FoJ7ChEa8_4E"
      },
      "execution_count": null,
      "outputs": []
    },
    {
      "cell_type": "code",
      "source": [
        "!pip install openpyxl"
      ],
      "metadata": {
        "colab": {
          "base_uri": "https://localhost:8080/"
        },
        "id": "BKt96Z_x9F8E",
        "outputId": "4d52ef8b-1d3f-491d-acd0-106aed1a556f"
      },
      "execution_count": null,
      "outputs": [
        {
          "output_type": "stream",
          "name": "stdout",
          "text": [
            "Looking in indexes: https://pypi.org/simple, https://us-python.pkg.dev/colab-wheels/public/simple/\n",
            "Requirement already satisfied: openpyxl in /usr/local/lib/python3.8/dist-packages (3.0.10)\n",
            "Requirement already satisfied: et-xmlfile in /usr/local/lib/python3.8/dist-packages (from openpyxl) (1.1.0)\n"
          ]
        }
      ]
    },
    {
      "cell_type": "markdown",
      "source": [
        "Movies_metadata verilerinden ilgileneceğimiz başlıkları seçtik."
      ],
      "metadata": {
        "id": "fHf1pvL8Uwoe"
      }
    },
    {
      "cell_type": "code",
      "source": [
        "df = pd.read_csv(\"/content/movies_metadata.csv\",  usecols=['title', 'overview', ], low_memory=False)"
      ],
      "metadata": {
        "id": "TMpznp0k9QxK"
      },
      "execution_count": null,
      "outputs": []
    },
    {
      "cell_type": "code",
      "source": [
        "df.head()"
      ],
      "metadata": {
        "colab": {
          "base_uri": "https://localhost:8080/",
          "height": 206
        },
        "id": "TiY3ChuO-J4f",
        "outputId": "6c7ff847-d584-4ec9-e987-f416121cc6cb"
      },
      "execution_count": null,
      "outputs": [
        {
          "output_type": "execute_result",
          "data": {
            "text/plain": [
              "                                            overview                        title\n",
              "0  Led by Woody, Andy's toys live happily in his ...                    Toy Story\n",
              "1  When siblings Judy and Peter discover an encha...                      Jumanji\n",
              "2  A family wedding reignites the ancient feud be...             Grumpier Old Men\n",
              "3  Cheated on, mistreated and stepped on, the wom...            Waiting to Exhale\n",
              "4  Just when George Banks has recovered from his ...  Father of the Bride Part II"
            ],
            "text/html": [
              "\n",
              "  <div id=\"df-e99c6cd2-f1e3-4b3c-baac-fcb57c0c146d\">\n",
              "    <div class=\"colab-df-container\">\n",
              "      <div>\n",
              "<style scoped>\n",
              "    .dataframe tbody tr th:only-of-type {\n",
              "        vertical-align: middle;\n",
              "    }\n",
              "\n",
              "    .dataframe tbody tr th {\n",
              "        vertical-align: top;\n",
              "    }\n",
              "\n",
              "    .dataframe thead th {\n",
              "        text-align: right;\n",
              "    }\n",
              "</style>\n",
              "<table border=\"1\" class=\"dataframe\">\n",
              "  <thead>\n",
              "    <tr style=\"text-align: right;\">\n",
              "      <th></th>\n",
              "      <th>overview</th>\n",
              "      <th>title</th>\n",
              "    </tr>\n",
              "  </thead>\n",
              "  <tbody>\n",
              "    <tr>\n",
              "      <th>0</th>\n",
              "      <td>Led by Woody, Andy's toys live happily in his ...</td>\n",
              "      <td>Toy Story</td>\n",
              "    </tr>\n",
              "    <tr>\n",
              "      <th>1</th>\n",
              "      <td>When siblings Judy and Peter discover an encha...</td>\n",
              "      <td>Jumanji</td>\n",
              "    </tr>\n",
              "    <tr>\n",
              "      <th>2</th>\n",
              "      <td>A family wedding reignites the ancient feud be...</td>\n",
              "      <td>Grumpier Old Men</td>\n",
              "    </tr>\n",
              "    <tr>\n",
              "      <th>3</th>\n",
              "      <td>Cheated on, mistreated and stepped on, the wom...</td>\n",
              "      <td>Waiting to Exhale</td>\n",
              "    </tr>\n",
              "    <tr>\n",
              "      <th>4</th>\n",
              "      <td>Just when George Banks has recovered from his ...</td>\n",
              "      <td>Father of the Bride Part II</td>\n",
              "    </tr>\n",
              "  </tbody>\n",
              "</table>\n",
              "</div>\n",
              "      <button class=\"colab-df-convert\" onclick=\"convertToInteractive('df-e99c6cd2-f1e3-4b3c-baac-fcb57c0c146d')\"\n",
              "              title=\"Convert this dataframe to an interactive table.\"\n",
              "              style=\"display:none;\">\n",
              "        \n",
              "  <svg xmlns=\"http://www.w3.org/2000/svg\" height=\"24px\"viewBox=\"0 0 24 24\"\n",
              "       width=\"24px\">\n",
              "    <path d=\"M0 0h24v24H0V0z\" fill=\"none\"/>\n",
              "    <path d=\"M18.56 5.44l.94 2.06.94-2.06 2.06-.94-2.06-.94-.94-2.06-.94 2.06-2.06.94zm-11 1L8.5 8.5l.94-2.06 2.06-.94-2.06-.94L8.5 2.5l-.94 2.06-2.06.94zm10 10l.94 2.06.94-2.06 2.06-.94-2.06-.94-.94-2.06-.94 2.06-2.06.94z\"/><path d=\"M17.41 7.96l-1.37-1.37c-.4-.4-.92-.59-1.43-.59-.52 0-1.04.2-1.43.59L10.3 9.45l-7.72 7.72c-.78.78-.78 2.05 0 2.83L4 21.41c.39.39.9.59 1.41.59.51 0 1.02-.2 1.41-.59l7.78-7.78 2.81-2.81c.8-.78.8-2.07 0-2.86zM5.41 20L4 18.59l7.72-7.72 1.47 1.35L5.41 20z\"/>\n",
              "  </svg>\n",
              "      </button>\n",
              "      \n",
              "  <style>\n",
              "    .colab-df-container {\n",
              "      display:flex;\n",
              "      flex-wrap:wrap;\n",
              "      gap: 12px;\n",
              "    }\n",
              "\n",
              "    .colab-df-convert {\n",
              "      background-color: #E8F0FE;\n",
              "      border: none;\n",
              "      border-radius: 50%;\n",
              "      cursor: pointer;\n",
              "      display: none;\n",
              "      fill: #1967D2;\n",
              "      height: 32px;\n",
              "      padding: 0 0 0 0;\n",
              "      width: 32px;\n",
              "    }\n",
              "\n",
              "    .colab-df-convert:hover {\n",
              "      background-color: #E2EBFA;\n",
              "      box-shadow: 0px 1px 2px rgba(60, 64, 67, 0.3), 0px 1px 3px 1px rgba(60, 64, 67, 0.15);\n",
              "      fill: #174EA6;\n",
              "    }\n",
              "\n",
              "    [theme=dark] .colab-df-convert {\n",
              "      background-color: #3B4455;\n",
              "      fill: #D2E3FC;\n",
              "    }\n",
              "\n",
              "    [theme=dark] .colab-df-convert:hover {\n",
              "      background-color: #434B5C;\n",
              "      box-shadow: 0px 1px 3px 1px rgba(0, 0, 0, 0.15);\n",
              "      filter: drop-shadow(0px 1px 2px rgba(0, 0, 0, 0.3));\n",
              "      fill: #FFFFFF;\n",
              "    }\n",
              "  </style>\n",
              "\n",
              "      <script>\n",
              "        const buttonEl =\n",
              "          document.querySelector('#df-e99c6cd2-f1e3-4b3c-baac-fcb57c0c146d button.colab-df-convert');\n",
              "        buttonEl.style.display =\n",
              "          google.colab.kernel.accessAllowed ? 'block' : 'none';\n",
              "\n",
              "        async function convertToInteractive(key) {\n",
              "          const element = document.querySelector('#df-e99c6cd2-f1e3-4b3c-baac-fcb57c0c146d');\n",
              "          const dataTable =\n",
              "            await google.colab.kernel.invokeFunction('convertToInteractive',\n",
              "                                                     [key], {});\n",
              "          if (!dataTable) return;\n",
              "\n",
              "          const docLinkHtml = 'Like what you see? Visit the ' +\n",
              "            '<a target=\"_blank\" href=https://colab.research.google.com/notebooks/data_table.ipynb>data table notebook</a>'\n",
              "            + ' to learn more about interactive tables.';\n",
              "          element.innerHTML = '';\n",
              "          dataTable['output_type'] = 'display_data';\n",
              "          await google.colab.output.renderOutput(dataTable, element);\n",
              "          const docLink = document.createElement('div');\n",
              "          docLink.innerHTML = docLinkHtml;\n",
              "          element.appendChild(docLink);\n",
              "        }\n",
              "      </script>\n",
              "    </div>\n",
              "  </div>\n",
              "  "
            ]
          },
          "metadata": {},
          "execution_count": 5
        }
      ]
    },
    {
      "cell_type": "code",
      "source": [
        "df.shape"
      ],
      "metadata": {
        "colab": {
          "base_uri": "https://localhost:8080/"
        },
        "id": "2KI4WeGm-Nr5",
        "outputId": "444018f1-7d95-498f-a22f-2d3871e5f22b"
      },
      "execution_count": null,
      "outputs": [
        {
          "output_type": "execute_result",
          "data": {
            "text/plain": [
              "(45466, 2)"
            ]
          },
          "metadata": {},
          "execution_count": 6
        }
      ]
    },
    {
      "cell_type": "markdown",
      "source": [
        "Ram'da fazla yer kaplamamak adına örneklemin %10'nunu alalım."
      ],
      "metadata": {
        "id": "4tucO9voVIHa"
      }
    },
    {
      "cell_type": "code",
      "source": [
        "df = df.sample(frac=0.1)"
      ],
      "metadata": {
        "id": "p6GMfAKCOpCY"
      },
      "execution_count": null,
      "outputs": []
    },
    {
      "cell_type": "code",
      "source": [
        "df.shape"
      ],
      "metadata": {
        "colab": {
          "base_uri": "https://localhost:8080/"
        },
        "id": "N3OkXVA9Orsq",
        "outputId": "5ce4ec4b-8dff-45bd-edfe-5edb388f8da9"
      },
      "execution_count": null,
      "outputs": [
        {
          "output_type": "execute_result",
          "data": {
            "text/plain": [
              "(4547, 2)"
            ]
          },
          "metadata": {},
          "execution_count": 8
        }
      ]
    },
    {
      "cell_type": "markdown",
      "source": [],
      "metadata": {
        "id": "UP3sYhZ1VRl5"
      }
    },
    {
      "cell_type": "markdown",
      "source": [
        "#**Metin vektörleştirme (TFI-IDF)**"
      ],
      "metadata": {
        "id": "8dRWVjRY9r-6"
      }
    },
    {
      "cell_type": "code",
      "source": [
        "df[\"overview\"].head()"
      ],
      "metadata": {
        "colab": {
          "base_uri": "https://localhost:8080/"
        },
        "id": "iIqr-hZM-AGq",
        "outputId": "7dc009e0-7db7-45bf-ca0b-e6e59e590ec7"
      },
      "execution_count": null,
      "outputs": [
        {
          "output_type": "execute_result",
          "data": {
            "text/plain": [
              "34054    Two young couples are driving through a remote...\n",
              "35931    Willy Ferriere is dead broke and his mistress ...\n",
              "39251    Mickey is trying to lead a concert of The Will...\n",
              "7257     The host of an investigative news show is conv...\n",
              "21841    A reimagining of the classic horror tale about...\n",
              "Name: overview, dtype: object"
            ]
          },
          "metadata": {},
          "execution_count": 9
        }
      ]
    },
    {
      "cell_type": "code",
      "source": [
        "tfidf = TfidfVectorizer(stop_words=\"english\")"
      ],
      "metadata": {
        "id": "Nl_yovUP-7t7"
      },
      "execution_count": null,
      "outputs": []
    },
    {
      "cell_type": "code",
      "source": [
        "df['overview'] = df['overview'].fillna('')"
      ],
      "metadata": {
        "id": "DCY1F1_c-_P3"
      },
      "execution_count": null,
      "outputs": []
    },
    {
      "cell_type": "code",
      "source": [
        "tfidf_matrix = tfidf.fit_transform(df['overview'])\n"
      ],
      "metadata": {
        "id": "xD-gEaNO_MF4"
      },
      "execution_count": null,
      "outputs": []
    },
    {
      "cell_type": "code",
      "source": [
        "tfidf_matrix.shape"
      ],
      "metadata": {
        "colab": {
          "base_uri": "https://localhost:8080/"
        },
        "id": "5REP2_yu_SCr",
        "outputId": "31637924-7ca5-4055-e303-c386511735b6"
      },
      "execution_count": null,
      "outputs": [
        {
          "output_type": "execute_result",
          "data": {
            "text/plain": [
              "(4547, 23900)"
            ]
          },
          "metadata": {},
          "execution_count": 13
        }
      ]
    },
    {
      "cell_type": "code",
      "source": [
        "df['title'].shape"
      ],
      "metadata": {
        "colab": {
          "base_uri": "https://localhost:8080/"
        },
        "id": "X8Ljjw9d_X_6",
        "outputId": "cf574754-a839-4d3e-e90d-841b1c5f3461"
      },
      "execution_count": null,
      "outputs": [
        {
          "output_type": "execute_result",
          "data": {
            "text/plain": [
              "(4547,)"
            ]
          },
          "metadata": {},
          "execution_count": 14
        }
      ]
    },
    {
      "cell_type": "code",
      "source": [
        "tfidf.get_feature_names()"
      ],
      "metadata": {
        "colab": {
          "base_uri": "https://localhost:8080/"
        },
        "id": "pvmEEJQl_cDC",
        "outputId": "cc306579-51c5-46a5-a211-fac2ced081bc"
      },
      "execution_count": null,
      "outputs": [
        {
          "output_type": "stream",
          "name": "stderr",
          "text": [
            "/usr/local/lib/python3.8/dist-packages/sklearn/utils/deprecation.py:87: FutureWarning: Function get_feature_names is deprecated; get_feature_names is deprecated in 1.0 and will be removed in 1.2. Please use get_feature_names_out instead.\n",
            "  warnings.warn(msg, category=FutureWarning)\n"
          ]
        },
        {
          "output_type": "execute_result",
          "data": {
            "text/plain": [
              "['00',\n",
              " '000',\n",
              " '000th',\n",
              " '006',\n",
              " '007',\n",
              " '008',\n",
              " '009',\n",
              " '01',\n",
              " '02',\n",
              " '03',\n",
              " '04',\n",
              " '042',\n",
              " '05',\n",
              " '06',\n",
              " '07',\n",
              " '08',\n",
              " '088',\n",
              " '09',\n",
              " '10',\n",
              " '100',\n",
              " '1000',\n",
              " '1001',\n",
              " '100th',\n",
              " '101',\n",
              " '105',\n",
              " '108',\n",
              " '10th',\n",
              " '11',\n",
              " '115',\n",
              " '117',\n",
              " '11th',\n",
              " '12',\n",
              " '1200',\n",
              " '125',\n",
              " '12th',\n",
              " '13',\n",
              " '130',\n",
              " '1349',\n",
              " '13anos',\n",
              " '13b',\n",
              " '13th',\n",
              " '14',\n",
              " '142',\n",
              " '1492',\n",
              " '14th',\n",
              " '15',\n",
              " '150',\n",
              " '150th',\n",
              " '1518',\n",
              " '15th',\n",
              " '16',\n",
              " '1600',\n",
              " '161',\n",
              " '1616',\n",
              " '1684',\n",
              " '16th',\n",
              " '17',\n",
              " '1700',\n",
              " '1701',\n",
              " '174',\n",
              " '1745',\n",
              " '1746',\n",
              " '1793',\n",
              " '1794',\n",
              " '1797',\n",
              " '17th',\n",
              " '18',\n",
              " '1800',\n",
              " '1800s',\n",
              " '1820',\n",
              " '1820s',\n",
              " '1826',\n",
              " '1828',\n",
              " '1840s',\n",
              " '1841',\n",
              " '1846',\n",
              " '1848',\n",
              " '1849',\n",
              " '1850',\n",
              " '1852',\n",
              " '1857',\n",
              " '1860',\n",
              " '1860s',\n",
              " '1861',\n",
              " '1862',\n",
              " '1864',\n",
              " '1865',\n",
              " '1867',\n",
              " '1870',\n",
              " '1870s',\n",
              " '1880s',\n",
              " '1882',\n",
              " '1885',\n",
              " '1890',\n",
              " '1890s',\n",
              " '1899',\n",
              " '18th',\n",
              " '19',\n",
              " '1900',\n",
              " '1900s',\n",
              " '1902',\n",
              " '1903',\n",
              " '1904',\n",
              " '1905',\n",
              " '1906',\n",
              " '1910',\n",
              " '1911',\n",
              " '1912',\n",
              " '1913',\n",
              " '1914',\n",
              " '1915',\n",
              " '1916',\n",
              " '1917',\n",
              " '1918',\n",
              " '192',\n",
              " '1920',\n",
              " '1920s',\n",
              " '1921',\n",
              " '1922',\n",
              " '1923',\n",
              " '1926',\n",
              " '1927',\n",
              " '1928',\n",
              " '1929',\n",
              " '1930',\n",
              " '1930s',\n",
              " '1931',\n",
              " '1932',\n",
              " '1933',\n",
              " '1934',\n",
              " '1935',\n",
              " '1936',\n",
              " '1937',\n",
              " '1938',\n",
              " '1939',\n",
              " '1940',\n",
              " '1940s',\n",
              " '1941',\n",
              " '1942',\n",
              " '1943',\n",
              " '1944',\n",
              " '1945',\n",
              " '1946',\n",
              " '1947',\n",
              " '1948',\n",
              " '1949',\n",
              " '1950',\n",
              " '1950s',\n",
              " '1952',\n",
              " '1953',\n",
              " '1954',\n",
              " '1955',\n",
              " '1956',\n",
              " '1957',\n",
              " '1959',\n",
              " '1960',\n",
              " '1960s',\n",
              " '1961',\n",
              " '1962',\n",
              " '1963',\n",
              " '1964',\n",
              " '1965',\n",
              " '1966',\n",
              " '1967',\n",
              " '1968',\n",
              " '1969',\n",
              " '1970',\n",
              " '1970s',\n",
              " '1971',\n",
              " '1972',\n",
              " '1973',\n",
              " '1974',\n",
              " '1975',\n",
              " '1976',\n",
              " '1977',\n",
              " '1978',\n",
              " '1979',\n",
              " '1980',\n",
              " '1980s',\n",
              " '1981',\n",
              " '1982',\n",
              " '1983',\n",
              " '1984',\n",
              " '1985',\n",
              " '1986',\n",
              " '1987',\n",
              " '1988',\n",
              " '1989',\n",
              " '1990',\n",
              " '1990s',\n",
              " '1991',\n",
              " '1992',\n",
              " '1993',\n",
              " '1994',\n",
              " '1995',\n",
              " '1996',\n",
              " '1997',\n",
              " '1998',\n",
              " '1999',\n",
              " '19th',\n",
              " '19yo',\n",
              " '1felco',\n",
              " '1st',\n",
              " '20',\n",
              " '200',\n",
              " '2000',\n",
              " '20000',\n",
              " '2001',\n",
              " '2002',\n",
              " '2003',\n",
              " '2004',\n",
              " '2005',\n",
              " '2006',\n",
              " '2007',\n",
              " '2008',\n",
              " '2009',\n",
              " '2010',\n",
              " '2011',\n",
              " '2012',\n",
              " '2013',\n",
              " '2014',\n",
              " '2015',\n",
              " '2017',\n",
              " '2018',\n",
              " '2020',\n",
              " '2050',\n",
              " '2067',\n",
              " '2077',\n",
              " '20s',\n",
              " '20th',\n",
              " '21',\n",
              " '2159',\n",
              " '21st',\n",
              " '22',\n",
              " '22nd',\n",
              " '23',\n",
              " '2300',\n",
              " '234',\n",
              " '235',\n",
              " '24',\n",
              " '24yo',\n",
              " '25',\n",
              " '250',\n",
              " '25th',\n",
              " '26',\n",
              " '27',\n",
              " '2784',\n",
              " '27th',\n",
              " '28',\n",
              " '29',\n",
              " '29th',\n",
              " '2channel',\n",
              " '2nd',\n",
              " '30',\n",
              " '300',\n",
              " '3000',\n",
              " '30000',\n",
              " '30s',\n",
              " '30th',\n",
              " '31',\n",
              " '32',\n",
              " '33',\n",
              " '332',\n",
              " '34',\n",
              " '35',\n",
              " '350',\n",
              " '36',\n",
              " '36th',\n",
              " '37',\n",
              " '38',\n",
              " '38th',\n",
              " '39',\n",
              " '3d',\n",
              " '3km',\n",
              " '3rd',\n",
              " '40',\n",
              " '400',\n",
              " '40s',\n",
              " '40th',\n",
              " '430',\n",
              " '436',\n",
              " '442nd',\n",
              " '45',\n",
              " '46',\n",
              " '47',\n",
              " '48',\n",
              " '49',\n",
              " '49th',\n",
              " '4th',\n",
              " '50',\n",
              " '500',\n",
              " '5000',\n",
              " '509th',\n",
              " '50s',\n",
              " '50th',\n",
              " '51',\n",
              " '515',\n",
              " '52',\n",
              " '5307th',\n",
              " '536',\n",
              " '54',\n",
              " '55',\n",
              " '56',\n",
              " '58',\n",
              " '59',\n",
              " '5m',\n",
              " '5th',\n",
              " '60',\n",
              " '600',\n",
              " '60s',\n",
              " '65',\n",
              " '65k',\n",
              " '666',\n",
              " '67',\n",
              " '68',\n",
              " '6m',\n",
              " '6th',\n",
              " '70',\n",
              " '707',\n",
              " '70s',\n",
              " '70th',\n",
              " '71',\n",
              " '72',\n",
              " '747',\n",
              " '75',\n",
              " '76',\n",
              " '77',\n",
              " '78',\n",
              " '7th',\n",
              " '80',\n",
              " '800',\n",
              " '80s',\n",
              " '80th',\n",
              " '81',\n",
              " '84',\n",
              " '85',\n",
              " '850',\n",
              " '86',\n",
              " '88',\n",
              " '880',\n",
              " '89',\n",
              " '8pm',\n",
              " '8th',\n",
              " '8x10',\n",
              " '90',\n",
              " '900',\n",
              " '911',\n",
              " '929',\n",
              " '93',\n",
              " '96',\n",
              " '976',\n",
              " '99',\n",
              " '999',\n",
              " '9th',\n",
              " '_stakeout_',\n",
              " 'aa',\n",
              " 'aachan',\n",
              " 'aakash',\n",
              " 'aarno',\n",
              " 'aaron',\n",
              " 'aba',\n",
              " 'abacus',\n",
              " 'abalaba',\n",
              " 'abandon',\n",
              " 'abandoned',\n",
              " 'abandoning',\n",
              " 'abandonment',\n",
              " 'abandons',\n",
              " 'abbas',\n",
              " 'abbasi',\n",
              " 'abbie',\n",
              " 'abbott',\n",
              " 'abby',\n",
              " 'abc',\n",
              " 'abdel',\n",
              " 'abdicate',\n",
              " 'abdicated',\n",
              " 'abducted',\n",
              " 'abductee',\n",
              " 'abducting',\n",
              " 'abduction',\n",
              " 'abductions',\n",
              " 'abductor',\n",
              " 'abducts',\n",
              " 'abdul',\n",
              " 'abe',\n",
              " 'abel',\n",
              " 'abeyance',\n",
              " 'abhalten',\n",
              " 'abigail',\n",
              " 'abilities',\n",
              " 'ability',\n",
              " 'abitur',\n",
              " 'abkhazia',\n",
              " 'able',\n",
              " 'abler',\n",
              " 'abner',\n",
              " 'aboard',\n",
              " 'abode',\n",
              " 'aboriginal',\n",
              " 'aborigine',\n",
              " 'aborigines',\n",
              " 'aboriginies',\n",
              " 'abortion',\n",
              " 'abound',\n",
              " 'abounds',\n",
              " 'abraha',\n",
              " 'abraham',\n",
              " 'abrahams',\n",
              " 'abramoff',\n",
              " 'abrasive',\n",
              " 'abroad',\n",
              " 'abrupt',\n",
              " 'abruptly',\n",
              " 'absence',\n",
              " 'absences',\n",
              " 'absent',\n",
              " 'abshire',\n",
              " 'absolute',\n",
              " 'absolutely',\n",
              " 'absoluteness',\n",
              " 'absolutions',\n",
              " 'absolve',\n",
              " 'absorb',\n",
              " 'absorbed',\n",
              " 'absorbing',\n",
              " 'absurd',\n",
              " 'absurdist',\n",
              " 'absurdity',\n",
              " 'abu',\n",
              " 'abuladze',\n",
              " 'abundance',\n",
              " 'abundantly',\n",
              " 'abuse',\n",
              " 'abused',\n",
              " 'abusers',\n",
              " 'abuses',\n",
              " 'abusing',\n",
              " 'abusive',\n",
              " 'abyss',\n",
              " 'ac',\n",
              " 'aca',\n",
              " 'academic',\n",
              " 'academics',\n",
              " 'academies',\n",
              " 'academy',\n",
              " 'accelerate',\n",
              " 'accept',\n",
              " 'acceptable',\n",
              " 'acceptance',\n",
              " 'accepted',\n",
              " 'accepting',\n",
              " 'accepts',\n",
              " 'access',\n",
              " 'accession',\n",
              " 'accessories',\n",
              " 'accident',\n",
              " 'accidental',\n",
              " 'accidentally',\n",
              " 'accidently',\n",
              " 'accidents',\n",
              " 'acclaimed',\n",
              " 'acclimate',\n",
              " 'accompanied',\n",
              " 'accompanies',\n",
              " 'accompaniment',\n",
              " 'accompany',\n",
              " 'accompanying',\n",
              " 'accomplice',\n",
              " 'accomplices',\n",
              " 'accomplish',\n",
              " 'accomplished',\n",
              " 'accomplishes',\n",
              " 'accomplishing',\n",
              " 'accomplishment',\n",
              " 'accord',\n",
              " 'accordance',\n",
              " 'according',\n",
              " 'account',\n",
              " 'accountability',\n",
              " 'accountable',\n",
              " 'accountant',\n",
              " 'accounts',\n",
              " 'accrue',\n",
              " 'accrues',\n",
              " 'accumulation',\n",
              " 'accuracy',\n",
              " 'accusation',\n",
              " 'accusations',\n",
              " 'accuse',\n",
              " 'accused',\n",
              " 'accusers',\n",
              " 'accuses',\n",
              " 'accusing',\n",
              " 'accussed',\n",
              " 'accustomed',\n",
              " 'ace',\n",
              " 'aces',\n",
              " 'achieve',\n",
              " 'achieved',\n",
              " 'achievement',\n",
              " 'achievements',\n",
              " 'achieves',\n",
              " 'achieving',\n",
              " 'achille',\n",
              " 'achilles',\n",
              " 'aching',\n",
              " 'achttien',\n",
              " 'acid',\n",
              " 'acknowledge',\n",
              " 'acknowledged',\n",
              " 'ackroyd',\n",
              " 'acp',\n",
              " 'acquaintance',\n",
              " 'acquaintances',\n",
              " 'acquainted',\n",
              " 'acquaintences',\n",
              " 'acquire',\n",
              " 'acquired',\n",
              " 'acquires',\n",
              " 'acquitted',\n",
              " 'acre',\n",
              " 'acrobat',\n",
              " 'acrobatic',\n",
              " 'act',\n",
              " 'acted',\n",
              " 'acting',\n",
              " 'action',\n",
              " 'actions',\n",
              " 'activate',\n",
              " 'active',\n",
              " 'actively',\n",
              " 'activism',\n",
              " 'activist',\n",
              " 'activists',\n",
              " 'activities',\n",
              " 'activity',\n",
              " 'activités',\n",
              " 'actor',\n",
              " 'actors',\n",
              " 'actress',\n",
              " 'actresses',\n",
              " 'acts',\n",
              " 'actual',\n",
              " 'actually',\n",
              " 'actuary',\n",
              " 'acute',\n",
              " 'acutely',\n",
              " 'ad',\n",
              " 'ada',\n",
              " 'adam',\n",
              " 'adamant',\n",
              " 'adams',\n",
              " 'adamson',\n",
              " 'adapation',\n",
              " 'adapt',\n",
              " 'adaptable',\n",
              " 'adaptation',\n",
              " 'adapted',\n",
              " 'adapts',\n",
              " 'add',\n",
              " 'added',\n",
              " 'addict',\n",
              " 'addicted',\n",
              " 'addiction',\n",
              " 'addictive',\n",
              " 'addicts',\n",
              " 'adding',\n",
              " 'addition',\n",
              " 'additional',\n",
              " 'additionally',\n",
              " 'addled',\n",
              " 'address',\n",
              " 'addresses',\n",
              " 'addressing',\n",
              " 'adds',\n",
              " 'adela',\n",
              " 'adelaide',\n",
              " 'adele',\n",
              " 'aden',\n",
              " 'adeptly',\n",
              " 'adherence',\n",
              " 'adheres',\n",
              " 'aditya',\n",
              " 'adjective',\n",
              " 'adjoining',\n",
              " 'adjust',\n",
              " 'adjusted',\n",
              " 'adjusting',\n",
              " 'administer',\n",
              " 'administers',\n",
              " 'administrate',\n",
              " 'administrates',\n",
              " 'administration',\n",
              " 'administrator',\n",
              " 'admiral',\n",
              " 'admiration',\n",
              " 'admired',\n",
              " 'admirer',\n",
              " 'admirers',\n",
              " 'admissions',\n",
              " 'admist',\n",
              " 'admit',\n",
              " 'admits',\n",
              " 'admitted',\n",
              " 'admittedly',\n",
              " 'adolescence',\n",
              " 'adolescent',\n",
              " 'adolescents',\n",
              " 'adolf',\n",
              " 'adopt',\n",
              " 'adopted',\n",
              " 'adopting',\n",
              " 'adoption',\n",
              " 'adoptions',\n",
              " 'adoptive',\n",
              " 'adopts',\n",
              " 'adorable',\n",
              " 'adoration',\n",
              " 'adored',\n",
              " 'adores',\n",
              " 'adoring',\n",
              " 'adorno',\n",
              " 'adrenaline',\n",
              " 'adrian',\n",
              " 'adrien',\n",
              " 'adrienne',\n",
              " 'adulation',\n",
              " 'adult',\n",
              " 'adulterous',\n",
              " 'adultery',\n",
              " 'adulthood',\n",
              " 'adults',\n",
              " 'advance',\n",
              " 'advanced',\n",
              " 'advancements',\n",
              " 'advances',\n",
              " 'advancing',\n",
              " 'advantage',\n",
              " 'advantageous',\n",
              " 'advantages',\n",
              " 'advent',\n",
              " 'adventure',\n",
              " 'adventurer',\n",
              " 'adventurers',\n",
              " 'adventures',\n",
              " 'adventuress',\n",
              " 'adventuring',\n",
              " 'adventurous',\n",
              " 'adversaries',\n",
              " 'adversary',\n",
              " 'adverse',\n",
              " 'adversities',\n",
              " 'adversity',\n",
              " 'advertised',\n",
              " 'advertises',\n",
              " 'advertising',\n",
              " 'advice',\n",
              " 'advised',\n",
              " 'adviser',\n",
              " 'advisor',\n",
              " 'advisors',\n",
              " 'advocacy',\n",
              " 'advocate',\n",
              " 'adımı',\n",
              " 'aer',\n",
              " 'aerial',\n",
              " 'aeronautical',\n",
              " 'aeronautics',\n",
              " 'aeroplane',\n",
              " 'aerospace',\n",
              " 'aesop',\n",
              " 'aesthetic',\n",
              " 'aetius',\n",
              " 'afar',\n",
              " 'affable',\n",
              " 'affably',\n",
              " 'affair',\n",
              " 'affairs',\n",
              " 'affect',\n",
              " 'affected',\n",
              " 'affecting',\n",
              " 'affection',\n",
              " 'affectionate',\n",
              " 'affectionately',\n",
              " 'affections',\n",
              " 'affects',\n",
              " 'affleck',\n",
              " 'afflicted',\n",
              " 'affliction',\n",
              " 'afflicts',\n",
              " 'affluent',\n",
              " 'afford',\n",
              " 'affordability',\n",
              " 'afghan',\n",
              " 'afghanistan',\n",
              " 'afin',\n",
              " 'afire',\n",
              " 'afloat',\n",
              " 'afraid',\n",
              " 'africa',\n",
              " 'african',\n",
              " 'africans',\n",
              " 'afrikaans',\n",
              " 'afrikaner',\n",
              " 'afro',\n",
              " 'afrobeat',\n",
              " 'afterlife',\n",
              " 'aftermath',\n",
              " 'afternoon',\n",
              " 'afternoons',\n",
              " 'afterward',\n",
              " 'agashe',\n",
              " 'agathe',\n",
              " 'age',\n",
              " 'aged',\n",
              " 'ageing',\n",
              " 'ageless',\n",
              " 'agency',\n",
              " 'agenda',\n",
              " 'agendas',\n",
              " 'agent',\n",
              " 'agents',\n",
              " 'ages',\n",
              " 'aggelakas',\n",
              " 'aggie',\n",
              " 'aggression',\n",
              " 'aggressive',\n",
              " 'agha',\n",
              " 'agile',\n",
              " 'aging',\n",
              " 'agitated',\n",
              " 'aglet',\n",
              " 'agnes',\n",
              " 'agnieszka',\n",
              " 'agnihotri',\n",
              " 'agnès',\n",
              " 'ago',\n",
              " 'agonizes',\n",
              " 'agonizing',\n",
              " 'agoraphobic',\n",
              " 'agostina',\n",
              " 'agostini',\n",
              " 'agostino',\n",
              " 'agree',\n",
              " 'agreeable',\n",
              " 'agreeably',\n",
              " 'agreed',\n",
              " 'agreement',\n",
              " 'agrees',\n",
              " 'agricultural',\n",
              " 'agriculture',\n",
              " 'aground',\n",
              " 'aguilera',\n",
              " 'agutter',\n",
              " 'ah',\n",
              " 'ahab',\n",
              " 'aharon',\n",
              " 'ahead',\n",
              " 'ahmad',\n",
              " 'ahmed',\n",
              " 'ahmet',\n",
              " 'ahonen',\n",
              " 'ahoy',\n",
              " 'aiba',\n",
              " 'aid',\n",
              " 'aidan',\n",
              " 'aide',\n",
              " 'aided',\n",
              " 'aiding',\n",
              " 'aids',\n",
              " 'aiko',\n",
              " 'aile',\n",
              " 'aileen',\n",
              " 'ailing',\n",
              " 'ails',\n",
              " 'aim',\n",
              " 'aimed',\n",
              " 'aimee',\n",
              " 'aimer',\n",
              " 'aiming',\n",
              " 'aimless',\n",
              " 'aimlessly',\n",
              " 'aimo',\n",
              " 'aims',\n",
              " 'ain',\n",
              " 'air',\n",
              " 'airborne',\n",
              " 'airbrushed',\n",
              " 'aircraft',\n",
              " 'aireans',\n",
              " 'aired',\n",
              " 'aires',\n",
              " 'airline',\n",
              " 'airman',\n",
              " 'airmen',\n",
              " 'airplane',\n",
              " 'airport',\n",
              " 'airships',\n",
              " 'airspace',\n",
              " 'airstrikes',\n",
              " 'airtime',\n",
              " 'aisha',\n",
              " 'aisle',\n",
              " 'aitthipat',\n",
              " 'aiutare',\n",
              " 'aj',\n",
              " 'ajab',\n",
              " 'ajansına',\n",
              " 'ajanta',\n",
              " 'ajay',\n",
              " 'ajith',\n",
              " 'aka',\n",
              " 'akademiska',\n",
              " 'akama',\n",
              " 'akana',\n",
              " 'akane',\n",
              " 'akash',\n",
              " 'akeelah',\n",
              " 'akemi',\n",
              " 'aki',\n",
              " 'akins',\n",
              " 'akira',\n",
              " 'akito',\n",
              " 'akiyama',\n",
              " 'akka',\n",
              " 'akkaya',\n",
              " 'akshay',\n",
              " 'al',\n",
              " 'alabama',\n",
              " 'alabaster',\n",
              " 'aladdin',\n",
              " 'alai',\n",
              " 'alain',\n",
              " 'alamos',\n",
              " 'alan',\n",
              " 'alaor',\n",
              " 'alarm',\n",
              " 'alarmed',\n",
              " 'alas',\n",
              " 'alaska',\n",
              " 'alaskan',\n",
              " 'alaskey',\n",
              " 'albans',\n",
              " 'albeit',\n",
              " 'albert',\n",
              " 'alberto',\n",
              " 'albino',\n",
              " 'albrecht',\n",
              " 'album',\n",
              " 'albums',\n",
              " 'albuquerque',\n",
              " 'alcan',\n",
              " 'alcohol',\n",
              " 'alcoholic',\n",
              " 'alcoholics',\n",
              " 'alcoholism',\n",
              " 'aldea',\n",
              " 'alden',\n",
              " 'alder',\n",
              " 'aldo',\n",
              " 'ale',\n",
              " 'alec',\n",
              " 'aleck',\n",
              " 'aleena',\n",
              " 'alejandra',\n",
              " 'alejandro',\n",
              " 'aleksandr',\n",
              " 'aleksis',\n",
              " 'alert',\n",
              " 'aleutian',\n",
              " 'alex',\n",
              " 'alexander',\n",
              " 'alexandra',\n",
              " 'alexandria',\n",
              " 'alexey',\n",
              " 'alexi',\n",
              " 'alexia',\n",
              " 'alexie',\n",
              " 'alexis',\n",
              " 'alfaro',\n",
              " 'alfie',\n",
              " 'alfred',\n",
              " 'alfredo',\n",
              " 'algeria',\n",
              " 'algerian',\n",
              " 'algiers',\n",
              " 'ali',\n",
              " 'alibi',\n",
              " 'alice',\n",
              " 'alicia',\n",
              " 'alien',\n",
              " 'alienated',\n",
              " 'alienation',\n",
              " 'aliens',\n",
              " 'align',\n",
              " 'aligned',\n",
              " 'aligns',\n",
              " 'alike',\n",
              " 'alikes',\n",
              " 'aliki',\n",
              " 'alina',\n",
              " 'alison',\n",
              " 'alive',\n",
              " 'alix',\n",
              " 'alizada',\n",
              " 'alla',\n",
              " 'allan',\n",
              " 'allburg',\n",
              " 'allegation',\n",
              " 'alleged',\n",
              " 'allegedly',\n",
              " 'allegiance',\n",
              " 'allegiances',\n",
              " 'allegory',\n",
              " 'allen',\n",
              " 'allende',\n",
              " 'aller',\n",
              " 'allergic',\n",
              " 'allergies',\n",
              " 'alles',\n",
              " 'alleviate',\n",
              " 'alley',\n",
              " 'alleys',\n",
              " 'alleyways',\n",
              " 'alliance',\n",
              " 'allied',\n",
              " 'allies',\n",
              " 'alligator',\n",
              " 'allison',\n",
              " 'allmovie',\n",
              " 'allocation',\n",
              " 'allora',\n",
              " 'allover',\n",
              " 'allow',\n",
              " 'allowed',\n",
              " 'allowing',\n",
              " 'allows',\n",
              " 'alls',\n",
              " 'allu',\n",
              " 'allure',\n",
              " 'alluring',\n",
              " 'ally',\n",
              " 'alm',\n",
              " 'alma',\n",
              " 'almaty',\n",
              " 'almighty',\n",
              " 'almodovar',\n",
              " 'alongside',\n",
              " 'alonso',\n",
              " 'aloof',\n",
              " 'alors',\n",
              " 'aloud',\n",
              " 'alphabet',\n",
              " 'alpine',\n",
              " 'alps',\n",
              " 'als',\n",
              " 'altar',\n",
              " 'alte',\n",
              " 'alter',\n",
              " 'alteration',\n",
              " 'altercation',\n",
              " 'altered',\n",
              " 'altering',\n",
              " 'alternate',\n",
              " 'alternately',\n",
              " 'alternates',\n",
              " 'alternative',\n",
              " 'alters',\n",
              " 'altipiano',\n",
              " 'alto',\n",
              " 'altogether',\n",
              " 'altri',\n",
              " 'altına',\n",
              " 'aluminum',\n",
              " 'alumnus',\n",
              " 'alvarez',\n",
              " 'alvaro',\n",
              " 'alvin',\n",
              " 'alwood',\n",
              " 'alyona',\n",
              " 'alyosha',\n",
              " 'alzheimer',\n",
              " 'alzheimers',\n",
              " 'amadeus',\n",
              " 'amadis',\n",
              " 'amalia',\n",
              " 'amami',\n",
              " 'amanda',\n",
              " 'amane',\n",
              " 'amar',\n",
              " 'amassed',\n",
              " 'amassing',\n",
              " 'amateur',\n",
              " 'amateurish',\n",
              " 'amateurism',\n",
              " 'amateurs',\n",
              " 'amazed',\n",
              " 'amazing',\n",
              " 'amazingly',\n",
              " ...]"
            ]
          },
          "metadata": {},
          "execution_count": 15
        }
      ]
    },
    {
      "cell_type": "code",
      "source": [
        "tfidf_matrix.toarray()"
      ],
      "metadata": {
        "colab": {
          "base_uri": "https://localhost:8080/"
        },
        "id": "5Jm77lmG_hyj",
        "outputId": "aa1ca89e-882e-4eff-c870-9c1ef9eff590"
      },
      "execution_count": null,
      "outputs": [
        {
          "output_type": "execute_result",
          "data": {
            "text/plain": [
              "array([[0.        , 0.        , 0.        , ..., 0.        , 0.        ,\n",
              "        0.        ],\n",
              "       [0.        , 0.14605738, 0.        , ..., 0.        , 0.        ,\n",
              "        0.        ],\n",
              "       [0.        , 0.        , 0.        , ..., 0.        , 0.        ,\n",
              "        0.        ],\n",
              "       ...,\n",
              "       [0.        , 0.        , 0.        , ..., 0.        , 0.        ,\n",
              "        0.        ],\n",
              "       [0.        , 0.        , 0.        , ..., 0.        , 0.        ,\n",
              "        0.        ],\n",
              "       [0.        , 0.        , 0.        , ..., 0.        , 0.        ,\n",
              "        0.        ]])"
            ]
          },
          "metadata": {},
          "execution_count": 16
        }
      ]
    },
    {
      "cell_type": "markdown",
      "source": [
        "#**Cosine Sim Calculator**"
      ],
      "metadata": {
        "id": "oH6wfoJzZesv"
      }
    },
    {
      "cell_type": "code",
      "source": [
        "cosine_sim = cosine_similarity(tfidf_matrix,\n",
        "                               tfidf_matrix)"
      ],
      "metadata": {
        "id": "CRae-PreZxSF"
      },
      "execution_count": null,
      "outputs": []
    },
    {
      "cell_type": "code",
      "source": [
        "cosine_sim.shape"
      ],
      "metadata": {
        "id": "y60eZNXuaUt3",
        "colab": {
          "base_uri": "https://localhost:8080/"
        },
        "outputId": "77ad3b24-d0eb-47bf-d7f2-be8600ac498b"
      },
      "execution_count": null,
      "outputs": [
        {
          "output_type": "execute_result",
          "data": {
            "text/plain": [
              "(4547, 4547)"
            ]
          },
          "metadata": {},
          "execution_count": 18
        }
      ]
    },
    {
      "cell_type": "code",
      "source": [
        "cosine_sim[1]"
      ],
      "metadata": {
        "colab": {
          "base_uri": "https://localhost:8080/"
        },
        "id": "NsbK-z9i5Q7y",
        "outputId": "92a83300-8ddc-47cf-8f7f-56a93b0374ff"
      },
      "execution_count": null,
      "outputs": [
        {
          "output_type": "execute_result",
          "data": {
            "text/plain": [
              "array([0.        , 1.        , 0.        , ..., 0.01933347, 0.        ,\n",
              "       0.        ])"
            ]
          },
          "metadata": {},
          "execution_count": 19
        }
      ]
    },
    {
      "cell_type": "markdown",
      "source": [
        "#** Recommendation Based on Similarities **"
      ],
      "metadata": {
        "id": "ph2ZMpnH5skl"
      }
    },
    {
      "cell_type": "code",
      "source": [
        "indices = pd.Series(df.index, index=df['title'])"
      ],
      "metadata": {
        "id": "KzlMqPPf5w9M"
      },
      "execution_count": null,
      "outputs": []
    },
    {
      "cell_type": "code",
      "source": [
        "indices.index.value_counts()"
      ],
      "metadata": {
        "colab": {
          "base_uri": "https://localhost:8080/"
        },
        "id": "I1lp-CCy6D78",
        "outputId": "71d307d7-5430-4460-ce98-4b194e382e61"
      },
      "execution_count": null,
      "outputs": [
        {
          "output_type": "execute_result",
          "data": {
            "text/plain": [
              "Alice in Wonderland           3\n",
              "Sense and Sensibility         3\n",
              "A Christmas Carol             3\n",
              "Beautiful                     2\n",
              "Dementia                      2\n",
              "                             ..\n",
              "The Burglars                  1\n",
              "Follow                        1\n",
              "Love! Valour! Compassion!     1\n",
              "Ziegfeld Follies              1\n",
              "The Murder of Fred Hampton    1\n",
              "Name: title, Length: 4503, dtype: int64"
            ]
          },
          "metadata": {},
          "execution_count": 21
        }
      ]
    },
    {
      "cell_type": "code",
      "source": [
        "indices = indices[~indices.index.duplicated(keep='last')]"
      ],
      "metadata": {
        "id": "c83r7CCP6NN8"
      },
      "execution_count": null,
      "outputs": []
    },
    {
      "cell_type": "code",
      "source": [
        "indices[\"Cinderella\"]"
      ],
      "metadata": {
        "colab": {
          "base_uri": "https://localhost:8080/"
        },
        "id": "g-9lYWUo6PxK",
        "outputId": "7dc4b500-9f2d-4add-812f-5334788f5e89"
      },
      "execution_count": null,
      "outputs": [
        {
          "output_type": "execute_result",
          "data": {
            "text/plain": [
              "35595"
            ]
          },
          "metadata": {},
          "execution_count": 23
        }
      ]
    },
    {
      "cell_type": "code",
      "source": [
        "movie_index = indices[\"Cinderella\"]"
      ],
      "metadata": {
        "id": "8O-SzAZe7CPC"
      },
      "execution_count": null,
      "outputs": []
    },
    {
      "cell_type": "code",
      "source": [
        "valid_indices = range(0, 4547)\n",
        "for movie_index in valid_indices:\n",
        "    value = cosine_sim[movie_index]"
      ],
      "metadata": {
        "id": "HlFqwiVxAql3"
      },
      "execution_count": null,
      "outputs": []
    },
    {
      "cell_type": "code",
      "source": [
        "similarity_scores = pd.DataFrame(cosine_sim[movie_index],\n",
        "                                 columns=[\"score\"])\n"
      ],
      "metadata": {
        "id": "OzpDAiRFBS-3"
      },
      "execution_count": null,
      "outputs": []
    },
    {
      "cell_type": "code",
      "source": [
        "movie_indices = similarity_scores.sort_values(\"score\", ascending=False)[1:11].index"
      ],
      "metadata": {
        "id": "tdzCLqhEBbWA"
      },
      "execution_count": null,
      "outputs": []
    },
    {
      "cell_type": "code",
      "source": [
        "df['title'].iloc[movie_indices]"
      ],
      "metadata": {
        "colab": {
          "base_uri": "https://localhost:8080/"
        },
        "id": "z253cpsXBiJn",
        "outputId": "44f99b61-b2a8-46d4-acef-be220537b8f8"
      },
      "execution_count": null,
      "outputs": [
        {
          "output_type": "execute_result",
          "data": {
            "text/plain": [
              "3065     Mr. Death: The Rise and Fall of Fred A. Leucht...\n",
              "21695                                                Saint\n",
              "9535                                   Hellraiser: Inferno\n",
              "19955                                      The Awful Truth\n",
              "24922                                 Thesis on a Homicide\n",
              "24008                                         King's Faith\n",
              "3928                                   Save the Last Dance\n",
              "16367                                               Stalin\n",
              "11513                                     American Madness\n",
              "44199                      The Velvet Underground and Nico\n",
              "Name: title, dtype: object"
            ]
          },
          "metadata": {},
          "execution_count": 28
        }
      ]
    },
    {
      "cell_type": "code",
      "source": [
        "def content_based_recommender(title, cosine_sim, dataframe):\n",
        "    # index'leri olusturma\n",
        "    indices = pd.Series(dataframe.index, index=dataframe['title'])\n",
        "    indices = indices[~indices.index.duplicated(keep='last')]\n",
        "    # title'ın index'ini yakalama\n",
        "    movie_index = indices[title]\n",
        "    # title'a gore benzerlik skorlarını hesapalama\n",
        "    similarity_scores = pd.DataFrame(cosine_sim[movie_index], columns=[\"score\"])\n",
        "    # kendisi haric ilk 10 filmi getirme\n",
        "    movie_indices = similarity_scores.sort_values(\"score\", ascending=False)[1:11].index\n",
        "    return dataframe['title'].iloc[movie_indices]"
      ],
      "metadata": {
        "id": "4qQBHGFHq3hc"
      },
      "execution_count": null,
      "outputs": []
    },
    {
      "cell_type": "code",
      "source": [
        "def calculate_cosine_sim(dataframe):\n",
        "    tfidf = TfidfVectorizer(stop_words='english')\n",
        "    dataframe['overview'] = dataframe['overview'].fillna('')\n",
        "    tfidf_matrix = tfidf.fit_transform(dataframe['overview'])\n",
        "    cosine_sim = cosine_similarity(tfidf_matrix, tfidf_matrix)\n",
        "    return cosine_sim\n",
        "\n"
      ],
      "metadata": {
        "id": "ihDKAHtCsczv"
      },
      "execution_count": null,
      "outputs": []
    },
    {
      "cell_type": "code",
      "source": [
        "cosine_sim = calculate_cosine_sim(df)\n"
      ],
      "metadata": {
        "id": "vT9NYac0se3R"
      },
      "execution_count": null,
      "outputs": []
    },
    {
      "cell_type": "code",
      "source": [
        "content_based_recommender('Save the Last Dance', cosine_sim, df)"
      ],
      "metadata": {
        "colab": {
          "base_uri": "https://localhost:8080/"
        },
        "id": "DhmiHThFtRVp",
        "outputId": "60f4dea8-e542-419e-aacf-b95dab281fa6"
      },
      "execution_count": null,
      "outputs": [
        {
          "output_type": "execute_result",
          "data": {
            "text/plain": [
              "32414                         Attack on Titan\n",
              "217                              Castle Freak\n",
              "28806                              Shark Kill\n",
              "17752                       Frenchman's Creek\n",
              "31017    Axe Giant - The Wrath of Paul Bunyan\n",
              "7371                      Witchfinder General\n",
              "10025                                   Earth\n",
              "29674                      Barbie: Fairytopia\n",
              "42451                    King of the Belgians\n",
              "27037        Snow White and the Three Stooges\n",
              "Name: title, dtype: object"
            ]
          },
          "metadata": {},
          "execution_count": 43
        }
      ]
    }
  ]
}